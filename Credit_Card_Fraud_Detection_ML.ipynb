{
  "nbformat": 4,
  "nbformat_minor": 0,
  "metadata": {
    "colab": {
      "name": "Credit Card Fraud Detection ML.ipynb",
      "provenance": [],
      "collapsed_sections": []
    },
    "kernelspec": {
      "name": "python3",
      "display_name": "Python 3"
    },
    "language_info": {
      "name": "python"
    }
  },
  "cells": [
    {
      "cell_type": "markdown",
      "source": [
        "Importing the Dependencies\n"
      ],
      "metadata": {
        "id": "v1C4x8ek5CWe"
      }
    },
    {
      "cell_type": "code",
      "source": [
        "import numpy as np\n",
        "import pandas as pd\n",
        "from sklearn.model_selection import train_test_split\n",
        "from sklearn.linear_model import LogisticRegression\n",
        "from sklearn.metrics import accuracy_score"
      ],
      "metadata": {
        "id": "wnk2Kkb94e1-"
      },
      "execution_count": 4,
      "outputs": []
    },
    {
      "cell_type": "code",
      "source": [
        "#loading the dataset to a Pandas Data frame\n",
        "credit_card_data =pd.read_csv('/creditcard.csv')\n"
      ],
      "metadata": {
        "id": "BkeAu3XB3_kW"
      },
      "execution_count": 6,
      "outputs": []
    },
    {
      "cell_type": "code",
      "source": [
        "#first five rows of data set\n",
        "credit_card_data.head"
      ],
      "metadata": {
        "colab": {
          "base_uri": "https://localhost:8080/"
        },
        "id": "IWiZOiQB3_yO",
        "outputId": "cbd42f99-c098-4f9b-f3de-c90436dfa0bd"
      },
      "execution_count": 7,
      "outputs": [
        {
          "output_type": "execute_result",
          "data": {
            "text/plain": [
              "<bound method NDFrame.head of         Time        V1        V2        V3        V4        V5        V6  \\\n",
              "0          0 -1.359807 -0.072781  2.536347  1.378155 -0.338321  0.462388   \n",
              "1          0  1.191857  0.266151  0.166480  0.448154  0.060018 -0.082361   \n",
              "2          1 -1.358354 -1.340163  1.773209  0.379780 -0.503198  1.800499   \n",
              "3          1 -0.966272 -0.185226  1.792993 -0.863291 -0.010309  1.247203   \n",
              "4          2 -1.158233  0.877737  1.548718  0.403034 -0.407193  0.095921   \n",
              "...      ...       ...       ...       ...       ...       ...       ...   \n",
              "95157  65189  1.142364 -1.090177  0.511068 -0.792356 -1.160044  0.134166   \n",
              "95158  65190 -2.145283  1.280406  0.014577 -2.003358  1.479294  4.673049   \n",
              "95159  65190 -3.715715  3.870511 -1.525809  0.082535 -0.244009 -0.901579   \n",
              "95160  65190 -5.164795  4.510526 -0.994499 -1.110853 -0.913228 -0.889076   \n",
              "95161  65191 -1.430966  1.192670  1.237388  1.074059 -0.997949  0.687186   \n",
              "\n",
              "             V7        V8        V9  ...       V21       V22       V23  \\\n",
              "0      0.239599  0.098698  0.363787  ... -0.018307  0.277838 -0.110474   \n",
              "1     -0.078803  0.085102 -0.255425  ... -0.225775 -0.638672  0.101288   \n",
              "2      0.791461  0.247676 -1.514654  ...  0.247998  0.771679  0.909412   \n",
              "3      0.237609  0.377436 -1.387024  ... -0.108300  0.005274 -0.190321   \n",
              "4      0.592941 -0.270533  0.817739  ... -0.009431  0.798278 -0.137458   \n",
              "...         ...       ...       ...  ...       ...       ...       ...   \n",
              "95157 -0.997184  0.236721 -0.583865  ...  0.399798  0.815983 -0.172587   \n",
              "95158 -2.008023 -2.933663  0.036717  ...  0.276433 -0.038006  0.085076   \n",
              "95159  0.708830  0.070491  2.349423  ... -0.327180  0.573451  0.266379   \n",
              "95160  0.373572  0.361552  3.841062  ... -0.908623 -1.154210  0.300341   \n",
              "95161 -1.045570  1.012203  0.095426  ...       NaN       NaN       NaN   \n",
              "\n",
              "            V24       V25       V26       V27       V28  Amount  Class  \n",
              "0      0.066928  0.128539 -0.189115  0.133558 -0.021053  149.62    0.0  \n",
              "1     -0.339846  0.167170  0.125895 -0.008983  0.014724    2.69    0.0  \n",
              "2     -0.689281 -0.327642 -0.139097 -0.055353 -0.059752  378.66    0.0  \n",
              "3     -1.175575  0.647376 -0.221929  0.062723  0.061458  123.50    0.0  \n",
              "4      0.141267 -0.206010  0.502292  0.219422  0.215153   69.99    0.0  \n",
              "...         ...       ...       ...       ...       ...     ...    ...  \n",
              "95157 -0.298962  0.310993 -0.077793  0.011223  0.019004  106.00    0.0  \n",
              "95158  1.049870  0.489570  1.045371 -0.363337 -0.222526   34.61    0.0  \n",
              "95159  0.040564 -0.175983 -0.494220  0.257349 -0.309196    0.89    0.0  \n",
              "95160 -0.102776  0.817800  0.201861  2.384092  1.576142    7.18    0.0  \n",
              "95161       NaN       NaN       NaN       NaN       NaN     NaN    NaN  \n",
              "\n",
              "[95162 rows x 31 columns]>"
            ]
          },
          "metadata": {},
          "execution_count": 7
        }
      ]
    },
    {
      "cell_type": "code",
      "source": [
        "#null values\n",
        "credit_card_data.isnull().sum"
      ],
      "metadata": {
        "colab": {
          "base_uri": "https://localhost:8080/"
        },
        "id": "Qw-ukZ1w3_1G",
        "outputId": "f9214422-a99d-40c8-c622-34eef9b608eb"
      },
      "execution_count": 8,
      "outputs": [
        {
          "output_type": "execute_result",
          "data": {
            "text/plain": [
              "<bound method NDFrame._add_numeric_operations.<locals>.sum of         Time     V1     V2     V3     V4     V5     V6     V7     V8     V9  \\\n",
              "0      False  False  False  False  False  False  False  False  False  False   \n",
              "1      False  False  False  False  False  False  False  False  False  False   \n",
              "2      False  False  False  False  False  False  False  False  False  False   \n",
              "3      False  False  False  False  False  False  False  False  False  False   \n",
              "4      False  False  False  False  False  False  False  False  False  False   \n",
              "...      ...    ...    ...    ...    ...    ...    ...    ...    ...    ...   \n",
              "95157  False  False  False  False  False  False  False  False  False  False   \n",
              "95158  False  False  False  False  False  False  False  False  False  False   \n",
              "95159  False  False  False  False  False  False  False  False  False  False   \n",
              "95160  False  False  False  False  False  False  False  False  False  False   \n",
              "95161  False  False  False  False  False  False  False  False  False  False   \n",
              "\n",
              "       ...    V21    V22    V23    V24    V25    V26    V27    V28  Amount  \\\n",
              "0      ...  False  False  False  False  False  False  False  False   False   \n",
              "1      ...  False  False  False  False  False  False  False  False   False   \n",
              "2      ...  False  False  False  False  False  False  False  False   False   \n",
              "3      ...  False  False  False  False  False  False  False  False   False   \n",
              "4      ...  False  False  False  False  False  False  False  False   False   \n",
              "...    ...    ...    ...    ...    ...    ...    ...    ...    ...     ...   \n",
              "95157  ...  False  False  False  False  False  False  False  False   False   \n",
              "95158  ...  False  False  False  False  False  False  False  False   False   \n",
              "95159  ...  False  False  False  False  False  False  False  False   False   \n",
              "95160  ...  False  False  False  False  False  False  False  False   False   \n",
              "95161  ...   True   True   True   True   True   True   True   True    True   \n",
              "\n",
              "       Class  \n",
              "0      False  \n",
              "1      False  \n",
              "2      False  \n",
              "3      False  \n",
              "4      False  \n",
              "...      ...  \n",
              "95157  False  \n",
              "95158  False  \n",
              "95159  False  \n",
              "95160  False  \n",
              "95161   True  \n",
              "\n",
              "[95162 rows x 31 columns]>"
            ]
          },
          "metadata": {},
          "execution_count": 8
        }
      ]
    },
    {
      "cell_type": "code",
      "source": [
        "credit_card_data.info()"
      ],
      "metadata": {
        "colab": {
          "base_uri": "https://localhost:8080/"
        },
        "id": "_32dIveM3_39",
        "outputId": "7c0364f6-0003-4fb6-fd02-ae4ccb25957c"
      },
      "execution_count": 9,
      "outputs": [
        {
          "output_type": "stream",
          "name": "stdout",
          "text": [
            "<class 'pandas.core.frame.DataFrame'>\n",
            "RangeIndex: 95162 entries, 0 to 95161\n",
            "Data columns (total 31 columns):\n",
            " #   Column  Non-Null Count  Dtype  \n",
            "---  ------  --------------  -----  \n",
            " 0   Time    95162 non-null  int64  \n",
            " 1   V1      95162 non-null  float64\n",
            " 2   V2      95162 non-null  float64\n",
            " 3   V3      95162 non-null  float64\n",
            " 4   V4      95162 non-null  float64\n",
            " 5   V5      95162 non-null  float64\n",
            " 6   V6      95162 non-null  float64\n",
            " 7   V7      95162 non-null  float64\n",
            " 8   V8      95162 non-null  float64\n",
            " 9   V9      95162 non-null  float64\n",
            " 10  V10     95162 non-null  float64\n",
            " 11  V11     95162 non-null  float64\n",
            " 12  V12     95162 non-null  float64\n",
            " 13  V13     95161 non-null  float64\n",
            " 14  V14     95161 non-null  float64\n",
            " 15  V15     95161 non-null  float64\n",
            " 16  V16     95161 non-null  float64\n",
            " 17  V17     95161 non-null  float64\n",
            " 18  V18     95161 non-null  float64\n",
            " 19  V19     95161 non-null  float64\n",
            " 20  V20     95161 non-null  float64\n",
            " 21  V21     95161 non-null  float64\n",
            " 22  V22     95161 non-null  float64\n",
            " 23  V23     95161 non-null  float64\n",
            " 24  V24     95161 non-null  float64\n",
            " 25  V25     95161 non-null  float64\n",
            " 26  V26     95161 non-null  float64\n",
            " 27  V27     95161 non-null  float64\n",
            " 28  V28     95161 non-null  float64\n",
            " 29  Amount  95161 non-null  float64\n",
            " 30  Class   95161 non-null  float64\n",
            "dtypes: float64(30), int64(1)\n",
            "memory usage: 22.5 MB\n"
          ]
        }
      ]
    },
    {
      "cell_type": "code",
      "source": [
        "#checking legit and fraud transation\n",
        "credit_card_data['Class'].value_counts()"
      ],
      "metadata": {
        "colab": {
          "base_uri": "https://localhost:8080/"
        },
        "id": "ANh4_R_o3_7F",
        "outputId": "45c35231-9e45-41a8-c308-33f85558a0b1"
      },
      "execution_count": 11,
      "outputs": [
        {
          "output_type": "execute_result",
          "data": {
            "text/plain": [
              "0.0    94944\n",
              "1.0      217\n",
              "Name: Class, dtype: int64"
            ]
          },
          "metadata": {},
          "execution_count": 11
        }
      ]
    },
    {
      "cell_type": "markdown",
      "source": [
        "This data is highly unbalanced \n",
        "seperate the fraudulent data and genuine data\n"
      ],
      "metadata": {
        "id": "hj7ErM5J9Crk"
      }
    },
    {
      "cell_type": "code",
      "source": [
        "legit=credit_card_data[credit_card_data.Class == 0]\n",
        "fraud=credit_card_data[credit_card_data.Class == 1]"
      ],
      "metadata": {
        "id": "8deaOalC3_-e"
      },
      "execution_count": 13,
      "outputs": []
    },
    {
      "cell_type": "code",
      "source": [
        "print(legit.shape)"
      ],
      "metadata": {
        "colab": {
          "base_uri": "https://localhost:8080/"
        },
        "id": "1iwjcLkJ4ABv",
        "outputId": "14b95dda-e02e-41f0-df66-a8fc021e5ccf"
      },
      "execution_count": 14,
      "outputs": [
        {
          "output_type": "stream",
          "name": "stdout",
          "text": [
            "(94944, 31)\n"
          ]
        }
      ]
    },
    {
      "cell_type": "code",
      "source": [
        "print(fraud.shape)"
      ],
      "metadata": {
        "colab": {
          "base_uri": "https://localhost:8080/"
        },
        "id": "3MIwdhOW4AEm",
        "outputId": "072a300b-8ead-4176-cc82-c9623eff5e07"
      },
      "execution_count": 15,
      "outputs": [
        {
          "output_type": "stream",
          "name": "stdout",
          "text": [
            "(217, 31)\n"
          ]
        }
      ]
    },
    {
      "cell_type": "code",
      "source": [
        "#statistical measures of the data \n",
        "legit.Amount.describe()"
      ],
      "metadata": {
        "colab": {
          "base_uri": "https://localhost:8080/"
        },
        "id": "ALor-YM-4AH_",
        "outputId": "7bab5525-0098-453a-e346-1693ac98a9c0"
      },
      "execution_count": 16,
      "outputs": [
        {
          "output_type": "execute_result",
          "data": {
            "text/plain": [
              "count    94944.000000\n",
              "mean        98.685374\n",
              "std        267.432993\n",
              "min          0.000000\n",
              "25%          7.600000\n",
              "50%         26.720000\n",
              "75%         89.752500\n",
              "max      19656.530000\n",
              "Name: Amount, dtype: float64"
            ]
          },
          "metadata": {},
          "execution_count": 16
        }
      ]
    },
    {
      "cell_type": "code",
      "source": [
        "fraud.Amount.describe()"
      ],
      "metadata": {
        "colab": {
          "base_uri": "https://localhost:8080/"
        },
        "id": "MDsXBia64AKu",
        "outputId": "ec6ad084-e646-41a8-fe24-4fb0bfdaa9a3"
      },
      "execution_count": 17,
      "outputs": [
        {
          "output_type": "execute_result",
          "data": {
            "text/plain": [
              "count     217.000000\n",
              "mean      109.784286\n",
              "std       243.927116\n",
              "min         0.000000\n",
              "25%         1.000000\n",
              "50%         7.580000\n",
              "75%        99.990000\n",
              "max      1809.680000\n",
              "Name: Amount, dtype: float64"
            ]
          },
          "metadata": {},
          "execution_count": 17
        }
      ]
    },
    {
      "cell_type": "code",
      "source": [
        "#compare the values for both thetransactions\n",
        "credit_card_data.groupby('Class').mean()"
      ],
      "metadata": {
        "colab": {
          "base_uri": "https://localhost:8080/",
          "height": 237
        },
        "id": "-1RuacO54AN-",
        "outputId": "0202a286-8f42-43b3-8052-cfee2d55ded4"
      },
      "execution_count": 18,
      "outputs": [
        {
          "output_type": "execute_result",
          "data": {
            "text/plain": [
              "               Time       V1        V2        V3       V4        V5        V6  \\\n",
              "Class                                                                           \n",
              "0.0    41232.783620 -0.25064 -0.047145  0.696491  0.15125 -0.270069  0.097914   \n",
              "1.0    35870.354839 -6.16618  4.217965 -8.087819  4.99603 -4.444345 -1.845983   \n",
              "\n",
              "             V7        V8        V9  ...       V20       V21       V22  \\\n",
              "Class                                ...                                 \n",
              "0.0   -0.093292  0.048787 -0.032333  ...  0.043401 -0.031938 -0.107340   \n",
              "1.0   -6.417590  2.796291 -2.953535  ...  0.354728  0.731128 -0.127758   \n",
              "\n",
              "            V23       V24      V25       V26       V27       V28      Amount  \n",
              "Class                                                                         \n",
              "0.0   -0.037071  0.009933  0.13190  0.026607 -0.000819  0.001332   98.685374  \n",
              "1.0   -0.247689 -0.102596  0.20696  0.097699  0.532822  0.035472  109.784286  \n",
              "\n",
              "[2 rows x 30 columns]"
            ],
            "text/html": [
              "\n",
              "  <div id=\"df-c5cc1f8b-c6b2-4581-a235-33c21a6047b1\">\n",
              "    <div class=\"colab-df-container\">\n",
              "      <div>\n",
              "<style scoped>\n",
              "    .dataframe tbody tr th:only-of-type {\n",
              "        vertical-align: middle;\n",
              "    }\n",
              "\n",
              "    .dataframe tbody tr th {\n",
              "        vertical-align: top;\n",
              "    }\n",
              "\n",
              "    .dataframe thead th {\n",
              "        text-align: right;\n",
              "    }\n",
              "</style>\n",
              "<table border=\"1\" class=\"dataframe\">\n",
              "  <thead>\n",
              "    <tr style=\"text-align: right;\">\n",
              "      <th></th>\n",
              "      <th>Time</th>\n",
              "      <th>V1</th>\n",
              "      <th>V2</th>\n",
              "      <th>V3</th>\n",
              "      <th>V4</th>\n",
              "      <th>V5</th>\n",
              "      <th>V6</th>\n",
              "      <th>V7</th>\n",
              "      <th>V8</th>\n",
              "      <th>V9</th>\n",
              "      <th>...</th>\n",
              "      <th>V20</th>\n",
              "      <th>V21</th>\n",
              "      <th>V22</th>\n",
              "      <th>V23</th>\n",
              "      <th>V24</th>\n",
              "      <th>V25</th>\n",
              "      <th>V26</th>\n",
              "      <th>V27</th>\n",
              "      <th>V28</th>\n",
              "      <th>Amount</th>\n",
              "    </tr>\n",
              "    <tr>\n",
              "      <th>Class</th>\n",
              "      <th></th>\n",
              "      <th></th>\n",
              "      <th></th>\n",
              "      <th></th>\n",
              "      <th></th>\n",
              "      <th></th>\n",
              "      <th></th>\n",
              "      <th></th>\n",
              "      <th></th>\n",
              "      <th></th>\n",
              "      <th></th>\n",
              "      <th></th>\n",
              "      <th></th>\n",
              "      <th></th>\n",
              "      <th></th>\n",
              "      <th></th>\n",
              "      <th></th>\n",
              "      <th></th>\n",
              "      <th></th>\n",
              "      <th></th>\n",
              "      <th></th>\n",
              "    </tr>\n",
              "  </thead>\n",
              "  <tbody>\n",
              "    <tr>\n",
              "      <th>0.0</th>\n",
              "      <td>41232.783620</td>\n",
              "      <td>-0.25064</td>\n",
              "      <td>-0.047145</td>\n",
              "      <td>0.696491</td>\n",
              "      <td>0.15125</td>\n",
              "      <td>-0.270069</td>\n",
              "      <td>0.097914</td>\n",
              "      <td>-0.093292</td>\n",
              "      <td>0.048787</td>\n",
              "      <td>-0.032333</td>\n",
              "      <td>...</td>\n",
              "      <td>0.043401</td>\n",
              "      <td>-0.031938</td>\n",
              "      <td>-0.107340</td>\n",
              "      <td>-0.037071</td>\n",
              "      <td>0.009933</td>\n",
              "      <td>0.13190</td>\n",
              "      <td>0.026607</td>\n",
              "      <td>-0.000819</td>\n",
              "      <td>0.001332</td>\n",
              "      <td>98.685374</td>\n",
              "    </tr>\n",
              "    <tr>\n",
              "      <th>1.0</th>\n",
              "      <td>35870.354839</td>\n",
              "      <td>-6.16618</td>\n",
              "      <td>4.217965</td>\n",
              "      <td>-8.087819</td>\n",
              "      <td>4.99603</td>\n",
              "      <td>-4.444345</td>\n",
              "      <td>-1.845983</td>\n",
              "      <td>-6.417590</td>\n",
              "      <td>2.796291</td>\n",
              "      <td>-2.953535</td>\n",
              "      <td>...</td>\n",
              "      <td>0.354728</td>\n",
              "      <td>0.731128</td>\n",
              "      <td>-0.127758</td>\n",
              "      <td>-0.247689</td>\n",
              "      <td>-0.102596</td>\n",
              "      <td>0.20696</td>\n",
              "      <td>0.097699</td>\n",
              "      <td>0.532822</td>\n",
              "      <td>0.035472</td>\n",
              "      <td>109.784286</td>\n",
              "    </tr>\n",
              "  </tbody>\n",
              "</table>\n",
              "<p>2 rows × 30 columns</p>\n",
              "</div>\n",
              "      <button class=\"colab-df-convert\" onclick=\"convertToInteractive('df-c5cc1f8b-c6b2-4581-a235-33c21a6047b1')\"\n",
              "              title=\"Convert this dataframe to an interactive table.\"\n",
              "              style=\"display:none;\">\n",
              "        \n",
              "  <svg xmlns=\"http://www.w3.org/2000/svg\" height=\"24px\"viewBox=\"0 0 24 24\"\n",
              "       width=\"24px\">\n",
              "    <path d=\"M0 0h24v24H0V0z\" fill=\"none\"/>\n",
              "    <path d=\"M18.56 5.44l.94 2.06.94-2.06 2.06-.94-2.06-.94-.94-2.06-.94 2.06-2.06.94zm-11 1L8.5 8.5l.94-2.06 2.06-.94-2.06-.94L8.5 2.5l-.94 2.06-2.06.94zm10 10l.94 2.06.94-2.06 2.06-.94-2.06-.94-.94-2.06-.94 2.06-2.06.94z\"/><path d=\"M17.41 7.96l-1.37-1.37c-.4-.4-.92-.59-1.43-.59-.52 0-1.04.2-1.43.59L10.3 9.45l-7.72 7.72c-.78.78-.78 2.05 0 2.83L4 21.41c.39.39.9.59 1.41.59.51 0 1.02-.2 1.41-.59l7.78-7.78 2.81-2.81c.8-.78.8-2.07 0-2.86zM5.41 20L4 18.59l7.72-7.72 1.47 1.35L5.41 20z\"/>\n",
              "  </svg>\n",
              "      </button>\n",
              "      \n",
              "  <style>\n",
              "    .colab-df-container {\n",
              "      display:flex;\n",
              "      flex-wrap:wrap;\n",
              "      gap: 12px;\n",
              "    }\n",
              "\n",
              "    .colab-df-convert {\n",
              "      background-color: #E8F0FE;\n",
              "      border: none;\n",
              "      border-radius: 50%;\n",
              "      cursor: pointer;\n",
              "      display: none;\n",
              "      fill: #1967D2;\n",
              "      height: 32px;\n",
              "      padding: 0 0 0 0;\n",
              "      width: 32px;\n",
              "    }\n",
              "\n",
              "    .colab-df-convert:hover {\n",
              "      background-color: #E2EBFA;\n",
              "      box-shadow: 0px 1px 2px rgba(60, 64, 67, 0.3), 0px 1px 3px 1px rgba(60, 64, 67, 0.15);\n",
              "      fill: #174EA6;\n",
              "    }\n",
              "\n",
              "    [theme=dark] .colab-df-convert {\n",
              "      background-color: #3B4455;\n",
              "      fill: #D2E3FC;\n",
              "    }\n",
              "\n",
              "    [theme=dark] .colab-df-convert:hover {\n",
              "      background-color: #434B5C;\n",
              "      box-shadow: 0px 1px 3px 1px rgba(0, 0, 0, 0.15);\n",
              "      filter: drop-shadow(0px 1px 2px rgba(0, 0, 0, 0.3));\n",
              "      fill: #FFFFFF;\n",
              "    }\n",
              "  </style>\n",
              "\n",
              "      <script>\n",
              "        const buttonEl =\n",
              "          document.querySelector('#df-c5cc1f8b-c6b2-4581-a235-33c21a6047b1 button.colab-df-convert');\n",
              "        buttonEl.style.display =\n",
              "          google.colab.kernel.accessAllowed ? 'block' : 'none';\n",
              "\n",
              "        async function convertToInteractive(key) {\n",
              "          const element = document.querySelector('#df-c5cc1f8b-c6b2-4581-a235-33c21a6047b1');\n",
              "          const dataTable =\n",
              "            await google.colab.kernel.invokeFunction('convertToInteractive',\n",
              "                                                     [key], {});\n",
              "          if (!dataTable) return;\n",
              "\n",
              "          const docLinkHtml = 'Like what you see? Visit the ' +\n",
              "            '<a target=\"_blank\" href=https://colab.research.google.com/notebooks/data_table.ipynb>data table notebook</a>'\n",
              "            + ' to learn more about interactive tables.';\n",
              "          element.innerHTML = '';\n",
              "          dataTable['output_type'] = 'display_data';\n",
              "          await google.colab.output.renderOutput(dataTable, element);\n",
              "          const docLink = document.createElement('div');\n",
              "          docLink.innerHTML = docLinkHtml;\n",
              "          element.appendChild(docLink);\n",
              "        }\n",
              "      </script>\n",
              "    </div>\n",
              "  </div>\n",
              "  "
            ]
          },
          "metadata": {},
          "execution_count": 18
        }
      ]
    },
    {
      "cell_type": "markdown",
      "source": [
        "UNDER SAMPLING \n",
        "building a sample dataset containg similar distributions of fraud and legit transactions\n",
        "No of Fraudulent transations = 217\n",
        "\n"
      ],
      "metadata": {
        "id": "uK2oxsaw_--o"
      }
    },
    {
      "cell_type": "code",
      "source": [
        "legit_sample= legit.sample(n=217)"
      ],
      "metadata": {
        "id": "V8kU9MD-4ARN"
      },
      "execution_count": 19,
      "outputs": []
    },
    {
      "cell_type": "code",
      "source": [
        "#Concatetating the two dataframes\n",
        "new_dataset=pd.concat([legit_sample,fraud], axis =0)"
      ],
      "metadata": {
        "id": "rkrRzQVv4AWX"
      },
      "execution_count": 20,
      "outputs": []
    },
    {
      "cell_type": "code",
      "source": [
        "new_dataset.head()"
      ],
      "metadata": {
        "colab": {
          "base_uri": "https://localhost:8080/",
          "height": 299
        },
        "id": "0yYcODCxBmgo",
        "outputId": "0196321c-34d8-4869-8c64-d23dd91b4088"
      },
      "execution_count": 21,
      "outputs": [
        {
          "output_type": "execute_result",
          "data": {
            "text/plain": [
              "        Time        V1        V2        V3        V4        V5        V6  \\\n",
              "3087    2645  1.084194 -0.218197  1.009381  1.007382 -0.726928  0.202677   \n",
              "7024    9207 -1.211744  1.161062  2.390853 -0.352334  0.234765 -0.262719   \n",
              "11334  19749 -3.640464  2.783323 -2.561302  1.438460 -2.220984 -1.558230   \n",
              "41494  40707  1.401412 -0.323197  0.608667 -0.676899 -0.972389 -0.990968   \n",
              "46237  42694 -3.106603 -3.601270  0.852923  0.082472  0.319299 -0.686586   \n",
              "\n",
              "             V7        V8        V9  ...       V21       V22       V23  \\\n",
              "3087  -0.617984  0.094905  0.665034  ...  0.247874  0.651287 -0.243886   \n",
              "7024   1.106050 -0.813445  3.131096  ... -0.585687 -0.022905 -0.291335   \n",
              "11334 -0.903554  2.154016  0.762929  ...  0.048539  0.177143  0.019497   \n",
              "41494 -0.433772 -0.287976 -1.018066  ... -0.076249 -0.261673  0.111024   \n",
              "46237 -1.322828  0.781221 -1.623562  ...  0.942173  0.988229  0.478072   \n",
              "\n",
              "            V24       V25       V26       V27       V28  Amount  Class  \n",
              "3087  -0.414413  0.475379 -0.212372  0.066090  0.048910   79.80    0.0  \n",
              "7024   0.369568  0.169435  0.242127  0.091500 -0.500525    0.01    0.0  \n",
              "11334  0.678931 -0.482649 -0.451892  0.311516 -0.005135   89.99    0.0  \n",
              "41494  0.412947  0.288866 -0.485821  0.021031  0.026849   12.00    0.0  \n",
              "46237 -0.261906 -0.231025 -0.022578  0.002541 -0.386346  295.90    0.0  \n",
              "\n",
              "[5 rows x 31 columns]"
            ],
            "text/html": [
              "\n",
              "  <div id=\"df-e34a034c-721d-4d67-9c35-b57a964f4847\">\n",
              "    <div class=\"colab-df-container\">\n",
              "      <div>\n",
              "<style scoped>\n",
              "    .dataframe tbody tr th:only-of-type {\n",
              "        vertical-align: middle;\n",
              "    }\n",
              "\n",
              "    .dataframe tbody tr th {\n",
              "        vertical-align: top;\n",
              "    }\n",
              "\n",
              "    .dataframe thead th {\n",
              "        text-align: right;\n",
              "    }\n",
              "</style>\n",
              "<table border=\"1\" class=\"dataframe\">\n",
              "  <thead>\n",
              "    <tr style=\"text-align: right;\">\n",
              "      <th></th>\n",
              "      <th>Time</th>\n",
              "      <th>V1</th>\n",
              "      <th>V2</th>\n",
              "      <th>V3</th>\n",
              "      <th>V4</th>\n",
              "      <th>V5</th>\n",
              "      <th>V6</th>\n",
              "      <th>V7</th>\n",
              "      <th>V8</th>\n",
              "      <th>V9</th>\n",
              "      <th>...</th>\n",
              "      <th>V21</th>\n",
              "      <th>V22</th>\n",
              "      <th>V23</th>\n",
              "      <th>V24</th>\n",
              "      <th>V25</th>\n",
              "      <th>V26</th>\n",
              "      <th>V27</th>\n",
              "      <th>V28</th>\n",
              "      <th>Amount</th>\n",
              "      <th>Class</th>\n",
              "    </tr>\n",
              "  </thead>\n",
              "  <tbody>\n",
              "    <tr>\n",
              "      <th>3087</th>\n",
              "      <td>2645</td>\n",
              "      <td>1.084194</td>\n",
              "      <td>-0.218197</td>\n",
              "      <td>1.009381</td>\n",
              "      <td>1.007382</td>\n",
              "      <td>-0.726928</td>\n",
              "      <td>0.202677</td>\n",
              "      <td>-0.617984</td>\n",
              "      <td>0.094905</td>\n",
              "      <td>0.665034</td>\n",
              "      <td>...</td>\n",
              "      <td>0.247874</td>\n",
              "      <td>0.651287</td>\n",
              "      <td>-0.243886</td>\n",
              "      <td>-0.414413</td>\n",
              "      <td>0.475379</td>\n",
              "      <td>-0.212372</td>\n",
              "      <td>0.066090</td>\n",
              "      <td>0.048910</td>\n",
              "      <td>79.80</td>\n",
              "      <td>0.0</td>\n",
              "    </tr>\n",
              "    <tr>\n",
              "      <th>7024</th>\n",
              "      <td>9207</td>\n",
              "      <td>-1.211744</td>\n",
              "      <td>1.161062</td>\n",
              "      <td>2.390853</td>\n",
              "      <td>-0.352334</td>\n",
              "      <td>0.234765</td>\n",
              "      <td>-0.262719</td>\n",
              "      <td>1.106050</td>\n",
              "      <td>-0.813445</td>\n",
              "      <td>3.131096</td>\n",
              "      <td>...</td>\n",
              "      <td>-0.585687</td>\n",
              "      <td>-0.022905</td>\n",
              "      <td>-0.291335</td>\n",
              "      <td>0.369568</td>\n",
              "      <td>0.169435</td>\n",
              "      <td>0.242127</td>\n",
              "      <td>0.091500</td>\n",
              "      <td>-0.500525</td>\n",
              "      <td>0.01</td>\n",
              "      <td>0.0</td>\n",
              "    </tr>\n",
              "    <tr>\n",
              "      <th>11334</th>\n",
              "      <td>19749</td>\n",
              "      <td>-3.640464</td>\n",
              "      <td>2.783323</td>\n",
              "      <td>-2.561302</td>\n",
              "      <td>1.438460</td>\n",
              "      <td>-2.220984</td>\n",
              "      <td>-1.558230</td>\n",
              "      <td>-0.903554</td>\n",
              "      <td>2.154016</td>\n",
              "      <td>0.762929</td>\n",
              "      <td>...</td>\n",
              "      <td>0.048539</td>\n",
              "      <td>0.177143</td>\n",
              "      <td>0.019497</td>\n",
              "      <td>0.678931</td>\n",
              "      <td>-0.482649</td>\n",
              "      <td>-0.451892</td>\n",
              "      <td>0.311516</td>\n",
              "      <td>-0.005135</td>\n",
              "      <td>89.99</td>\n",
              "      <td>0.0</td>\n",
              "    </tr>\n",
              "    <tr>\n",
              "      <th>41494</th>\n",
              "      <td>40707</td>\n",
              "      <td>1.401412</td>\n",
              "      <td>-0.323197</td>\n",
              "      <td>0.608667</td>\n",
              "      <td>-0.676899</td>\n",
              "      <td>-0.972389</td>\n",
              "      <td>-0.990968</td>\n",
              "      <td>-0.433772</td>\n",
              "      <td>-0.287976</td>\n",
              "      <td>-1.018066</td>\n",
              "      <td>...</td>\n",
              "      <td>-0.076249</td>\n",
              "      <td>-0.261673</td>\n",
              "      <td>0.111024</td>\n",
              "      <td>0.412947</td>\n",
              "      <td>0.288866</td>\n",
              "      <td>-0.485821</td>\n",
              "      <td>0.021031</td>\n",
              "      <td>0.026849</td>\n",
              "      <td>12.00</td>\n",
              "      <td>0.0</td>\n",
              "    </tr>\n",
              "    <tr>\n",
              "      <th>46237</th>\n",
              "      <td>42694</td>\n",
              "      <td>-3.106603</td>\n",
              "      <td>-3.601270</td>\n",
              "      <td>0.852923</td>\n",
              "      <td>0.082472</td>\n",
              "      <td>0.319299</td>\n",
              "      <td>-0.686586</td>\n",
              "      <td>-1.322828</td>\n",
              "      <td>0.781221</td>\n",
              "      <td>-1.623562</td>\n",
              "      <td>...</td>\n",
              "      <td>0.942173</td>\n",
              "      <td>0.988229</td>\n",
              "      <td>0.478072</td>\n",
              "      <td>-0.261906</td>\n",
              "      <td>-0.231025</td>\n",
              "      <td>-0.022578</td>\n",
              "      <td>0.002541</td>\n",
              "      <td>-0.386346</td>\n",
              "      <td>295.90</td>\n",
              "      <td>0.0</td>\n",
              "    </tr>\n",
              "  </tbody>\n",
              "</table>\n",
              "<p>5 rows × 31 columns</p>\n",
              "</div>\n",
              "      <button class=\"colab-df-convert\" onclick=\"convertToInteractive('df-e34a034c-721d-4d67-9c35-b57a964f4847')\"\n",
              "              title=\"Convert this dataframe to an interactive table.\"\n",
              "              style=\"display:none;\">\n",
              "        \n",
              "  <svg xmlns=\"http://www.w3.org/2000/svg\" height=\"24px\"viewBox=\"0 0 24 24\"\n",
              "       width=\"24px\">\n",
              "    <path d=\"M0 0h24v24H0V0z\" fill=\"none\"/>\n",
              "    <path d=\"M18.56 5.44l.94 2.06.94-2.06 2.06-.94-2.06-.94-.94-2.06-.94 2.06-2.06.94zm-11 1L8.5 8.5l.94-2.06 2.06-.94-2.06-.94L8.5 2.5l-.94 2.06-2.06.94zm10 10l.94 2.06.94-2.06 2.06-.94-2.06-.94-.94-2.06-.94 2.06-2.06.94z\"/><path d=\"M17.41 7.96l-1.37-1.37c-.4-.4-.92-.59-1.43-.59-.52 0-1.04.2-1.43.59L10.3 9.45l-7.72 7.72c-.78.78-.78 2.05 0 2.83L4 21.41c.39.39.9.59 1.41.59.51 0 1.02-.2 1.41-.59l7.78-7.78 2.81-2.81c.8-.78.8-2.07 0-2.86zM5.41 20L4 18.59l7.72-7.72 1.47 1.35L5.41 20z\"/>\n",
              "  </svg>\n",
              "      </button>\n",
              "      \n",
              "  <style>\n",
              "    .colab-df-container {\n",
              "      display:flex;\n",
              "      flex-wrap:wrap;\n",
              "      gap: 12px;\n",
              "    }\n",
              "\n",
              "    .colab-df-convert {\n",
              "      background-color: #E8F0FE;\n",
              "      border: none;\n",
              "      border-radius: 50%;\n",
              "      cursor: pointer;\n",
              "      display: none;\n",
              "      fill: #1967D2;\n",
              "      height: 32px;\n",
              "      padding: 0 0 0 0;\n",
              "      width: 32px;\n",
              "    }\n",
              "\n",
              "    .colab-df-convert:hover {\n",
              "      background-color: #E2EBFA;\n",
              "      box-shadow: 0px 1px 2px rgba(60, 64, 67, 0.3), 0px 1px 3px 1px rgba(60, 64, 67, 0.15);\n",
              "      fill: #174EA6;\n",
              "    }\n",
              "\n",
              "    [theme=dark] .colab-df-convert {\n",
              "      background-color: #3B4455;\n",
              "      fill: #D2E3FC;\n",
              "    }\n",
              "\n",
              "    [theme=dark] .colab-df-convert:hover {\n",
              "      background-color: #434B5C;\n",
              "      box-shadow: 0px 1px 3px 1px rgba(0, 0, 0, 0.15);\n",
              "      filter: drop-shadow(0px 1px 2px rgba(0, 0, 0, 0.3));\n",
              "      fill: #FFFFFF;\n",
              "    }\n",
              "  </style>\n",
              "\n",
              "      <script>\n",
              "        const buttonEl =\n",
              "          document.querySelector('#df-e34a034c-721d-4d67-9c35-b57a964f4847 button.colab-df-convert');\n",
              "        buttonEl.style.display =\n",
              "          google.colab.kernel.accessAllowed ? 'block' : 'none';\n",
              "\n",
              "        async function convertToInteractive(key) {\n",
              "          const element = document.querySelector('#df-e34a034c-721d-4d67-9c35-b57a964f4847');\n",
              "          const dataTable =\n",
              "            await google.colab.kernel.invokeFunction('convertToInteractive',\n",
              "                                                     [key], {});\n",
              "          if (!dataTable) return;\n",
              "\n",
              "          const docLinkHtml = 'Like what you see? Visit the ' +\n",
              "            '<a target=\"_blank\" href=https://colab.research.google.com/notebooks/data_table.ipynb>data table notebook</a>'\n",
              "            + ' to learn more about interactive tables.';\n",
              "          element.innerHTML = '';\n",
              "          dataTable['output_type'] = 'display_data';\n",
              "          await google.colab.output.renderOutput(dataTable, element);\n",
              "          const docLink = document.createElement('div');\n",
              "          docLink.innerHTML = docLinkHtml;\n",
              "          element.appendChild(docLink);\n",
              "        }\n",
              "      </script>\n",
              "    </div>\n",
              "  </div>\n",
              "  "
            ]
          },
          "metadata": {},
          "execution_count": 21
        }
      ]
    },
    {
      "cell_type": "code",
      "source": [
        "new_dataset.tail()"
      ],
      "metadata": {
        "colab": {
          "base_uri": "https://localhost:8080/",
          "height": 299
        },
        "id": "MGWDbjCfBpwm",
        "outputId": "c0e731f8-7ea7-4db0-de7a-9afd269dc26a"
      },
      "execution_count": 22,
      "outputs": [
        {
          "output_type": "execute_result",
          "data": {
            "text/plain": [
              "        Time        V1        V2        V3        V4        V5        V6  \\\n",
              "92777  64093 -6.133987  2.941499 -5.593986  3.258845 -5.315512 -0.637328   \n",
              "93424  64412 -1.348042  2.522821 -0.782432  4.083047 -0.662280 -0.598776   \n",
              "93486  64443  1.079524  0.872988 -0.303850  2.755369  0.301688 -0.350284   \n",
              "93788  64585  1.080433  0.962831 -0.278065  2.743318  0.412364 -0.320778   \n",
              "94218  64785 -8.744415 -3.420468 -4.850575  6.606846 -2.800546  0.105512   \n",
              "\n",
              "             V7        V8        V9  ...       V21       V22       V23  \\\n",
              "92777 -4.476488  1.695994 -1.606743  ...  0.868340  0.793736  0.217347   \n",
              "93424 -1.943552 -0.329579 -1.853274  ...  1.079871 -0.352026 -0.218358   \n",
              "93486 -0.042848  0.246625 -0.779176  ... -0.023255 -0.158601 -0.038806   \n",
              "93788  0.041290  0.176170 -0.966952  ... -0.008996 -0.057036 -0.053692   \n",
              "94218 -3.269801  0.940378 -2.558691  ...  0.102913  0.311626 -4.129195   \n",
              "\n",
              "            V24       V25       V26       V27       V28  Amount  Class  \n",
              "92777 -0.021985  0.145882  0.665088 -1.684186  0.310195  294.90    1.0  \n",
              "93424  0.125866 -0.074180  0.179116  0.612580  0.234206    1.00    1.0  \n",
              "93486 -0.060327  0.358339  0.076984  0.018936  0.060574    0.00    1.0  \n",
              "93788 -0.026373  0.400300  0.072828  0.027043  0.063238    0.00    1.0  \n",
              "94218  0.034639 -1.133631  0.272265  1.841307 -1.796363  720.38    1.0  \n",
              "\n",
              "[5 rows x 31 columns]"
            ],
            "text/html": [
              "\n",
              "  <div id=\"df-5a5ebb43-c74d-4b72-8d46-b4de10d41225\">\n",
              "    <div class=\"colab-df-container\">\n",
              "      <div>\n",
              "<style scoped>\n",
              "    .dataframe tbody tr th:only-of-type {\n",
              "        vertical-align: middle;\n",
              "    }\n",
              "\n",
              "    .dataframe tbody tr th {\n",
              "        vertical-align: top;\n",
              "    }\n",
              "\n",
              "    .dataframe thead th {\n",
              "        text-align: right;\n",
              "    }\n",
              "</style>\n",
              "<table border=\"1\" class=\"dataframe\">\n",
              "  <thead>\n",
              "    <tr style=\"text-align: right;\">\n",
              "      <th></th>\n",
              "      <th>Time</th>\n",
              "      <th>V1</th>\n",
              "      <th>V2</th>\n",
              "      <th>V3</th>\n",
              "      <th>V4</th>\n",
              "      <th>V5</th>\n",
              "      <th>V6</th>\n",
              "      <th>V7</th>\n",
              "      <th>V8</th>\n",
              "      <th>V9</th>\n",
              "      <th>...</th>\n",
              "      <th>V21</th>\n",
              "      <th>V22</th>\n",
              "      <th>V23</th>\n",
              "      <th>V24</th>\n",
              "      <th>V25</th>\n",
              "      <th>V26</th>\n",
              "      <th>V27</th>\n",
              "      <th>V28</th>\n",
              "      <th>Amount</th>\n",
              "      <th>Class</th>\n",
              "    </tr>\n",
              "  </thead>\n",
              "  <tbody>\n",
              "    <tr>\n",
              "      <th>92777</th>\n",
              "      <td>64093</td>\n",
              "      <td>-6.133987</td>\n",
              "      <td>2.941499</td>\n",
              "      <td>-5.593986</td>\n",
              "      <td>3.258845</td>\n",
              "      <td>-5.315512</td>\n",
              "      <td>-0.637328</td>\n",
              "      <td>-4.476488</td>\n",
              "      <td>1.695994</td>\n",
              "      <td>-1.606743</td>\n",
              "      <td>...</td>\n",
              "      <td>0.868340</td>\n",
              "      <td>0.793736</td>\n",
              "      <td>0.217347</td>\n",
              "      <td>-0.021985</td>\n",
              "      <td>0.145882</td>\n",
              "      <td>0.665088</td>\n",
              "      <td>-1.684186</td>\n",
              "      <td>0.310195</td>\n",
              "      <td>294.90</td>\n",
              "      <td>1.0</td>\n",
              "    </tr>\n",
              "    <tr>\n",
              "      <th>93424</th>\n",
              "      <td>64412</td>\n",
              "      <td>-1.348042</td>\n",
              "      <td>2.522821</td>\n",
              "      <td>-0.782432</td>\n",
              "      <td>4.083047</td>\n",
              "      <td>-0.662280</td>\n",
              "      <td>-0.598776</td>\n",
              "      <td>-1.943552</td>\n",
              "      <td>-0.329579</td>\n",
              "      <td>-1.853274</td>\n",
              "      <td>...</td>\n",
              "      <td>1.079871</td>\n",
              "      <td>-0.352026</td>\n",
              "      <td>-0.218358</td>\n",
              "      <td>0.125866</td>\n",
              "      <td>-0.074180</td>\n",
              "      <td>0.179116</td>\n",
              "      <td>0.612580</td>\n",
              "      <td>0.234206</td>\n",
              "      <td>1.00</td>\n",
              "      <td>1.0</td>\n",
              "    </tr>\n",
              "    <tr>\n",
              "      <th>93486</th>\n",
              "      <td>64443</td>\n",
              "      <td>1.079524</td>\n",
              "      <td>0.872988</td>\n",
              "      <td>-0.303850</td>\n",
              "      <td>2.755369</td>\n",
              "      <td>0.301688</td>\n",
              "      <td>-0.350284</td>\n",
              "      <td>-0.042848</td>\n",
              "      <td>0.246625</td>\n",
              "      <td>-0.779176</td>\n",
              "      <td>...</td>\n",
              "      <td>-0.023255</td>\n",
              "      <td>-0.158601</td>\n",
              "      <td>-0.038806</td>\n",
              "      <td>-0.060327</td>\n",
              "      <td>0.358339</td>\n",
              "      <td>0.076984</td>\n",
              "      <td>0.018936</td>\n",
              "      <td>0.060574</td>\n",
              "      <td>0.00</td>\n",
              "      <td>1.0</td>\n",
              "    </tr>\n",
              "    <tr>\n",
              "      <th>93788</th>\n",
              "      <td>64585</td>\n",
              "      <td>1.080433</td>\n",
              "      <td>0.962831</td>\n",
              "      <td>-0.278065</td>\n",
              "      <td>2.743318</td>\n",
              "      <td>0.412364</td>\n",
              "      <td>-0.320778</td>\n",
              "      <td>0.041290</td>\n",
              "      <td>0.176170</td>\n",
              "      <td>-0.966952</td>\n",
              "      <td>...</td>\n",
              "      <td>-0.008996</td>\n",
              "      <td>-0.057036</td>\n",
              "      <td>-0.053692</td>\n",
              "      <td>-0.026373</td>\n",
              "      <td>0.400300</td>\n",
              "      <td>0.072828</td>\n",
              "      <td>0.027043</td>\n",
              "      <td>0.063238</td>\n",
              "      <td>0.00</td>\n",
              "      <td>1.0</td>\n",
              "    </tr>\n",
              "    <tr>\n",
              "      <th>94218</th>\n",
              "      <td>64785</td>\n",
              "      <td>-8.744415</td>\n",
              "      <td>-3.420468</td>\n",
              "      <td>-4.850575</td>\n",
              "      <td>6.606846</td>\n",
              "      <td>-2.800546</td>\n",
              "      <td>0.105512</td>\n",
              "      <td>-3.269801</td>\n",
              "      <td>0.940378</td>\n",
              "      <td>-2.558691</td>\n",
              "      <td>...</td>\n",
              "      <td>0.102913</td>\n",
              "      <td>0.311626</td>\n",
              "      <td>-4.129195</td>\n",
              "      <td>0.034639</td>\n",
              "      <td>-1.133631</td>\n",
              "      <td>0.272265</td>\n",
              "      <td>1.841307</td>\n",
              "      <td>-1.796363</td>\n",
              "      <td>720.38</td>\n",
              "      <td>1.0</td>\n",
              "    </tr>\n",
              "  </tbody>\n",
              "</table>\n",
              "<p>5 rows × 31 columns</p>\n",
              "</div>\n",
              "      <button class=\"colab-df-convert\" onclick=\"convertToInteractive('df-5a5ebb43-c74d-4b72-8d46-b4de10d41225')\"\n",
              "              title=\"Convert this dataframe to an interactive table.\"\n",
              "              style=\"display:none;\">\n",
              "        \n",
              "  <svg xmlns=\"http://www.w3.org/2000/svg\" height=\"24px\"viewBox=\"0 0 24 24\"\n",
              "       width=\"24px\">\n",
              "    <path d=\"M0 0h24v24H0V0z\" fill=\"none\"/>\n",
              "    <path d=\"M18.56 5.44l.94 2.06.94-2.06 2.06-.94-2.06-.94-.94-2.06-.94 2.06-2.06.94zm-11 1L8.5 8.5l.94-2.06 2.06-.94-2.06-.94L8.5 2.5l-.94 2.06-2.06.94zm10 10l.94 2.06.94-2.06 2.06-.94-2.06-.94-.94-2.06-.94 2.06-2.06.94z\"/><path d=\"M17.41 7.96l-1.37-1.37c-.4-.4-.92-.59-1.43-.59-.52 0-1.04.2-1.43.59L10.3 9.45l-7.72 7.72c-.78.78-.78 2.05 0 2.83L4 21.41c.39.39.9.59 1.41.59.51 0 1.02-.2 1.41-.59l7.78-7.78 2.81-2.81c.8-.78.8-2.07 0-2.86zM5.41 20L4 18.59l7.72-7.72 1.47 1.35L5.41 20z\"/>\n",
              "  </svg>\n",
              "      </button>\n",
              "      \n",
              "  <style>\n",
              "    .colab-df-container {\n",
              "      display:flex;\n",
              "      flex-wrap:wrap;\n",
              "      gap: 12px;\n",
              "    }\n",
              "\n",
              "    .colab-df-convert {\n",
              "      background-color: #E8F0FE;\n",
              "      border: none;\n",
              "      border-radius: 50%;\n",
              "      cursor: pointer;\n",
              "      display: none;\n",
              "      fill: #1967D2;\n",
              "      height: 32px;\n",
              "      padding: 0 0 0 0;\n",
              "      width: 32px;\n",
              "    }\n",
              "\n",
              "    .colab-df-convert:hover {\n",
              "      background-color: #E2EBFA;\n",
              "      box-shadow: 0px 1px 2px rgba(60, 64, 67, 0.3), 0px 1px 3px 1px rgba(60, 64, 67, 0.15);\n",
              "      fill: #174EA6;\n",
              "    }\n",
              "\n",
              "    [theme=dark] .colab-df-convert {\n",
              "      background-color: #3B4455;\n",
              "      fill: #D2E3FC;\n",
              "    }\n",
              "\n",
              "    [theme=dark] .colab-df-convert:hover {\n",
              "      background-color: #434B5C;\n",
              "      box-shadow: 0px 1px 3px 1px rgba(0, 0, 0, 0.15);\n",
              "      filter: drop-shadow(0px 1px 2px rgba(0, 0, 0, 0.3));\n",
              "      fill: #FFFFFF;\n",
              "    }\n",
              "  </style>\n",
              "\n",
              "      <script>\n",
              "        const buttonEl =\n",
              "          document.querySelector('#df-5a5ebb43-c74d-4b72-8d46-b4de10d41225 button.colab-df-convert');\n",
              "        buttonEl.style.display =\n",
              "          google.colab.kernel.accessAllowed ? 'block' : 'none';\n",
              "\n",
              "        async function convertToInteractive(key) {\n",
              "          const element = document.querySelector('#df-5a5ebb43-c74d-4b72-8d46-b4de10d41225');\n",
              "          const dataTable =\n",
              "            await google.colab.kernel.invokeFunction('convertToInteractive',\n",
              "                                                     [key], {});\n",
              "          if (!dataTable) return;\n",
              "\n",
              "          const docLinkHtml = 'Like what you see? Visit the ' +\n",
              "            '<a target=\"_blank\" href=https://colab.research.google.com/notebooks/data_table.ipynb>data table notebook</a>'\n",
              "            + ' to learn more about interactive tables.';\n",
              "          element.innerHTML = '';\n",
              "          dataTable['output_type'] = 'display_data';\n",
              "          await google.colab.output.renderOutput(dataTable, element);\n",
              "          const docLink = document.createElement('div');\n",
              "          docLink.innerHTML = docLinkHtml;\n",
              "          element.appendChild(docLink);\n",
              "        }\n",
              "      </script>\n",
              "    </div>\n",
              "  </div>\n",
              "  "
            ]
          },
          "metadata": {},
          "execution_count": 22
        }
      ]
    },
    {
      "cell_type": "code",
      "source": [
        "new_dataset.groupby('Class').mean()"
      ],
      "metadata": {
        "colab": {
          "base_uri": "https://localhost:8080/",
          "height": 237
        },
        "id": "s8N__eE-By4H",
        "outputId": "5a654699-4836-4fda-fbe9-7e75aa96681f"
      },
      "execution_count": 23,
      "outputs": [
        {
          "output_type": "execute_result",
          "data": {
            "text/plain": [
              "               Time        V1        V2        V3        V4        V5  \\\n",
              "Class                                                                   \n",
              "0.0    42602.317972 -0.335868  0.007153  0.725439  0.042741 -0.292821   \n",
              "1.0    35870.354839 -6.166180  4.217965 -8.087819  4.996030 -4.444345   \n",
              "\n",
              "             V6        V7        V8        V9  ...       V20       V21  \\\n",
              "Class                                          ...                       \n",
              "0.0    0.135186 -0.036145  0.048631 -0.248163  ... -0.022454 -0.027755   \n",
              "1.0   -1.845983 -6.417590  2.796291 -2.953535  ...  0.354728  0.731128   \n",
              "\n",
              "            V22       V23       V24       V25       V26       V27       V28  \\\n",
              "Class                                                                         \n",
              "0.0   -0.059271 -0.017030 -0.001522  0.114089  0.021302 -0.000335 -0.019883   \n",
              "1.0   -0.127758 -0.247689 -0.102596  0.206960  0.097699  0.532822  0.035472   \n",
              "\n",
              "           Amount  \n",
              "Class              \n",
              "0.0     97.737281  \n",
              "1.0    109.784286  \n",
              "\n",
              "[2 rows x 30 columns]"
            ],
            "text/html": [
              "\n",
              "  <div id=\"df-9794b476-c550-4168-a8b3-1b657e076993\">\n",
              "    <div class=\"colab-df-container\">\n",
              "      <div>\n",
              "<style scoped>\n",
              "    .dataframe tbody tr th:only-of-type {\n",
              "        vertical-align: middle;\n",
              "    }\n",
              "\n",
              "    .dataframe tbody tr th {\n",
              "        vertical-align: top;\n",
              "    }\n",
              "\n",
              "    .dataframe thead th {\n",
              "        text-align: right;\n",
              "    }\n",
              "</style>\n",
              "<table border=\"1\" class=\"dataframe\">\n",
              "  <thead>\n",
              "    <tr style=\"text-align: right;\">\n",
              "      <th></th>\n",
              "      <th>Time</th>\n",
              "      <th>V1</th>\n",
              "      <th>V2</th>\n",
              "      <th>V3</th>\n",
              "      <th>V4</th>\n",
              "      <th>V5</th>\n",
              "      <th>V6</th>\n",
              "      <th>V7</th>\n",
              "      <th>V8</th>\n",
              "      <th>V9</th>\n",
              "      <th>...</th>\n",
              "      <th>V20</th>\n",
              "      <th>V21</th>\n",
              "      <th>V22</th>\n",
              "      <th>V23</th>\n",
              "      <th>V24</th>\n",
              "      <th>V25</th>\n",
              "      <th>V26</th>\n",
              "      <th>V27</th>\n",
              "      <th>V28</th>\n",
              "      <th>Amount</th>\n",
              "    </tr>\n",
              "    <tr>\n",
              "      <th>Class</th>\n",
              "      <th></th>\n",
              "      <th></th>\n",
              "      <th></th>\n",
              "      <th></th>\n",
              "      <th></th>\n",
              "      <th></th>\n",
              "      <th></th>\n",
              "      <th></th>\n",
              "      <th></th>\n",
              "      <th></th>\n",
              "      <th></th>\n",
              "      <th></th>\n",
              "      <th></th>\n",
              "      <th></th>\n",
              "      <th></th>\n",
              "      <th></th>\n",
              "      <th></th>\n",
              "      <th></th>\n",
              "      <th></th>\n",
              "      <th></th>\n",
              "      <th></th>\n",
              "    </tr>\n",
              "  </thead>\n",
              "  <tbody>\n",
              "    <tr>\n",
              "      <th>0.0</th>\n",
              "      <td>42602.317972</td>\n",
              "      <td>-0.335868</td>\n",
              "      <td>0.007153</td>\n",
              "      <td>0.725439</td>\n",
              "      <td>0.042741</td>\n",
              "      <td>-0.292821</td>\n",
              "      <td>0.135186</td>\n",
              "      <td>-0.036145</td>\n",
              "      <td>0.048631</td>\n",
              "      <td>-0.248163</td>\n",
              "      <td>...</td>\n",
              "      <td>-0.022454</td>\n",
              "      <td>-0.027755</td>\n",
              "      <td>-0.059271</td>\n",
              "      <td>-0.017030</td>\n",
              "      <td>-0.001522</td>\n",
              "      <td>0.114089</td>\n",
              "      <td>0.021302</td>\n",
              "      <td>-0.000335</td>\n",
              "      <td>-0.019883</td>\n",
              "      <td>97.737281</td>\n",
              "    </tr>\n",
              "    <tr>\n",
              "      <th>1.0</th>\n",
              "      <td>35870.354839</td>\n",
              "      <td>-6.166180</td>\n",
              "      <td>4.217965</td>\n",
              "      <td>-8.087819</td>\n",
              "      <td>4.996030</td>\n",
              "      <td>-4.444345</td>\n",
              "      <td>-1.845983</td>\n",
              "      <td>-6.417590</td>\n",
              "      <td>2.796291</td>\n",
              "      <td>-2.953535</td>\n",
              "      <td>...</td>\n",
              "      <td>0.354728</td>\n",
              "      <td>0.731128</td>\n",
              "      <td>-0.127758</td>\n",
              "      <td>-0.247689</td>\n",
              "      <td>-0.102596</td>\n",
              "      <td>0.206960</td>\n",
              "      <td>0.097699</td>\n",
              "      <td>0.532822</td>\n",
              "      <td>0.035472</td>\n",
              "      <td>109.784286</td>\n",
              "    </tr>\n",
              "  </tbody>\n",
              "</table>\n",
              "<p>2 rows × 30 columns</p>\n",
              "</div>\n",
              "      <button class=\"colab-df-convert\" onclick=\"convertToInteractive('df-9794b476-c550-4168-a8b3-1b657e076993')\"\n",
              "              title=\"Convert this dataframe to an interactive table.\"\n",
              "              style=\"display:none;\">\n",
              "        \n",
              "  <svg xmlns=\"http://www.w3.org/2000/svg\" height=\"24px\"viewBox=\"0 0 24 24\"\n",
              "       width=\"24px\">\n",
              "    <path d=\"M0 0h24v24H0V0z\" fill=\"none\"/>\n",
              "    <path d=\"M18.56 5.44l.94 2.06.94-2.06 2.06-.94-2.06-.94-.94-2.06-.94 2.06-2.06.94zm-11 1L8.5 8.5l.94-2.06 2.06-.94-2.06-.94L8.5 2.5l-.94 2.06-2.06.94zm10 10l.94 2.06.94-2.06 2.06-.94-2.06-.94-.94-2.06-.94 2.06-2.06.94z\"/><path d=\"M17.41 7.96l-1.37-1.37c-.4-.4-.92-.59-1.43-.59-.52 0-1.04.2-1.43.59L10.3 9.45l-7.72 7.72c-.78.78-.78 2.05 0 2.83L4 21.41c.39.39.9.59 1.41.59.51 0 1.02-.2 1.41-.59l7.78-7.78 2.81-2.81c.8-.78.8-2.07 0-2.86zM5.41 20L4 18.59l7.72-7.72 1.47 1.35L5.41 20z\"/>\n",
              "  </svg>\n",
              "      </button>\n",
              "      \n",
              "  <style>\n",
              "    .colab-df-container {\n",
              "      display:flex;\n",
              "      flex-wrap:wrap;\n",
              "      gap: 12px;\n",
              "    }\n",
              "\n",
              "    .colab-df-convert {\n",
              "      background-color: #E8F0FE;\n",
              "      border: none;\n",
              "      border-radius: 50%;\n",
              "      cursor: pointer;\n",
              "      display: none;\n",
              "      fill: #1967D2;\n",
              "      height: 32px;\n",
              "      padding: 0 0 0 0;\n",
              "      width: 32px;\n",
              "    }\n",
              "\n",
              "    .colab-df-convert:hover {\n",
              "      background-color: #E2EBFA;\n",
              "      box-shadow: 0px 1px 2px rgba(60, 64, 67, 0.3), 0px 1px 3px 1px rgba(60, 64, 67, 0.15);\n",
              "      fill: #174EA6;\n",
              "    }\n",
              "\n",
              "    [theme=dark] .colab-df-convert {\n",
              "      background-color: #3B4455;\n",
              "      fill: #D2E3FC;\n",
              "    }\n",
              "\n",
              "    [theme=dark] .colab-df-convert:hover {\n",
              "      background-color: #434B5C;\n",
              "      box-shadow: 0px 1px 3px 1px rgba(0, 0, 0, 0.15);\n",
              "      filter: drop-shadow(0px 1px 2px rgba(0, 0, 0, 0.3));\n",
              "      fill: #FFFFFF;\n",
              "    }\n",
              "  </style>\n",
              "\n",
              "      <script>\n",
              "        const buttonEl =\n",
              "          document.querySelector('#df-9794b476-c550-4168-a8b3-1b657e076993 button.colab-df-convert');\n",
              "        buttonEl.style.display =\n",
              "          google.colab.kernel.accessAllowed ? 'block' : 'none';\n",
              "\n",
              "        async function convertToInteractive(key) {\n",
              "          const element = document.querySelector('#df-9794b476-c550-4168-a8b3-1b657e076993');\n",
              "          const dataTable =\n",
              "            await google.colab.kernel.invokeFunction('convertToInteractive',\n",
              "                                                     [key], {});\n",
              "          if (!dataTable) return;\n",
              "\n",
              "          const docLinkHtml = 'Like what you see? Visit the ' +\n",
              "            '<a target=\"_blank\" href=https://colab.research.google.com/notebooks/data_table.ipynb>data table notebook</a>'\n",
              "            + ' to learn more about interactive tables.';\n",
              "          element.innerHTML = '';\n",
              "          dataTable['output_type'] = 'display_data';\n",
              "          await google.colab.output.renderOutput(dataTable, element);\n",
              "          const docLink = document.createElement('div');\n",
              "          docLink.innerHTML = docLinkHtml;\n",
              "          element.appendChild(docLink);\n",
              "        }\n",
              "      </script>\n",
              "    </div>\n",
              "  </div>\n",
              "  "
            ]
          },
          "metadata": {},
          "execution_count": 23
        }
      ]
    },
    {
      "cell_type": "markdown",
      "source": [
        "Splitting the data into features and targets\n"
      ],
      "metadata": {
        "id": "d7t1FvfKEKKe"
      }
    },
    {
      "cell_type": "code",
      "source": [
        "X= new_dataset.drop(columns='Class', axis=1)\n",
        "Y=new_dataset['Class']"
      ],
      "metadata": {
        "id": "bcKUm1BFB1aV"
      },
      "execution_count": 24,
      "outputs": []
    },
    {
      "cell_type": "code",
      "source": [
        "print(X)"
      ],
      "metadata": {
        "colab": {
          "base_uri": "https://localhost:8080/"
        },
        "id": "vDfo-5gTB1s4",
        "outputId": "da21f126-c107-429c-f056-b2181f2a0cfe"
      },
      "execution_count": 25,
      "outputs": [
        {
          "output_type": "stream",
          "name": "stdout",
          "text": [
            "        Time        V1        V2        V3        V4        V5        V6  \\\n",
            "3087    2645  1.084194 -0.218197  1.009381  1.007382 -0.726928  0.202677   \n",
            "7024    9207 -1.211744  1.161062  2.390853 -0.352334  0.234765 -0.262719   \n",
            "11334  19749 -3.640464  2.783323 -2.561302  1.438460 -2.220984 -1.558230   \n",
            "41494  40707  1.401412 -0.323197  0.608667 -0.676899 -0.972389 -0.990968   \n",
            "46237  42694 -3.106603 -3.601270  0.852923  0.082472  0.319299 -0.686586   \n",
            "...      ...       ...       ...       ...       ...       ...       ...   \n",
            "92777  64093 -6.133987  2.941499 -5.593986  3.258845 -5.315512 -0.637328   \n",
            "93424  64412 -1.348042  2.522821 -0.782432  4.083047 -0.662280 -0.598776   \n",
            "93486  64443  1.079524  0.872988 -0.303850  2.755369  0.301688 -0.350284   \n",
            "93788  64585  1.080433  0.962831 -0.278065  2.743318  0.412364 -0.320778   \n",
            "94218  64785 -8.744415 -3.420468 -4.850575  6.606846 -2.800546  0.105512   \n",
            "\n",
            "             V7        V8        V9  ...       V20       V21       V22  \\\n",
            "3087  -0.617984  0.094905  0.665034  ...  0.106188  0.247874  0.651287   \n",
            "7024   1.106050 -0.813445  3.131096  ...  0.722249 -0.585687 -0.022905   \n",
            "11334 -0.903554  2.154016  0.762929  ... -0.137063  0.048539  0.177143   \n",
            "41494 -0.433772 -0.287976 -1.018066  ...  0.182436 -0.076249 -0.261673   \n",
            "46237 -1.322828  0.781221 -1.623562  ...  1.643774  0.942173  0.988229   \n",
            "...         ...       ...       ...  ...       ...       ...       ...   \n",
            "92777 -4.476488  1.695994 -1.606743  ... -0.815086  0.868340  0.793736   \n",
            "93424 -1.943552 -0.329579 -1.853274  ...  0.348896  1.079871 -0.352026   \n",
            "93486 -0.042848  0.246625 -0.779176  ... -0.252115 -0.023255 -0.158601   \n",
            "93788  0.041290  0.176170 -0.966952  ... -0.172659 -0.008996 -0.057036   \n",
            "94218 -3.269801  0.940378 -2.558691  ... -1.818315  0.102913  0.311626   \n",
            "\n",
            "            V23       V24       V25       V26       V27       V28  Amount  \n",
            "3087  -0.243886 -0.414413  0.475379 -0.212372  0.066090  0.048910   79.80  \n",
            "7024  -0.291335  0.369568  0.169435  0.242127  0.091500 -0.500525    0.01  \n",
            "11334  0.019497  0.678931 -0.482649 -0.451892  0.311516 -0.005135   89.99  \n",
            "41494  0.111024  0.412947  0.288866 -0.485821  0.021031  0.026849   12.00  \n",
            "46237  0.478072 -0.261906 -0.231025 -0.022578  0.002541 -0.386346  295.90  \n",
            "...         ...       ...       ...       ...       ...       ...     ...  \n",
            "92777  0.217347 -0.021985  0.145882  0.665088 -1.684186  0.310195  294.90  \n",
            "93424 -0.218358  0.125866 -0.074180  0.179116  0.612580  0.234206    1.00  \n",
            "93486 -0.038806 -0.060327  0.358339  0.076984  0.018936  0.060574    0.00  \n",
            "93788 -0.053692 -0.026373  0.400300  0.072828  0.027043  0.063238    0.00  \n",
            "94218 -4.129195  0.034639 -1.133631  0.272265  1.841307 -1.796363  720.38  \n",
            "\n",
            "[434 rows x 30 columns]\n"
          ]
        }
      ]
    },
    {
      "cell_type": "code",
      "source": [
        "print(Y)"
      ],
      "metadata": {
        "colab": {
          "base_uri": "https://localhost:8080/"
        },
        "id": "x_p91KNlB1vm",
        "outputId": "41455cf4-1538-4dfd-d206-4933e91ed7e9"
      },
      "execution_count": 26,
      "outputs": [
        {
          "output_type": "stream",
          "name": "stdout",
          "text": [
            "3087     0.0\n",
            "7024     0.0\n",
            "11334    0.0\n",
            "41494    0.0\n",
            "46237    0.0\n",
            "        ... \n",
            "92777    1.0\n",
            "93424    1.0\n",
            "93486    1.0\n",
            "93788    1.0\n",
            "94218    1.0\n",
            "Name: Class, Length: 434, dtype: float64\n"
          ]
        }
      ]
    },
    {
      "cell_type": "code",
      "source": [
        "#Splitting the data into training and testing data\n",
        "X_train, X_test,Y_train,Y_test = train_test_split(X, Y, test_size= 0.2, stratify=Y,random_state=2)"
      ],
      "metadata": {
        "id": "kmsOuuhiB1yZ"
      },
      "execution_count": 27,
      "outputs": []
    },
    {
      "cell_type": "code",
      "source": [
        "print(X.shape, X_train.shape, X_test.shape)"
      ],
      "metadata": {
        "colab": {
          "base_uri": "https://localhost:8080/"
        },
        "id": "Nf9r9wOUB11M",
        "outputId": "28630590-abb3-4f50-d870-b1272292b4f9"
      },
      "execution_count": 28,
      "outputs": [
        {
          "output_type": "stream",
          "name": "stdout",
          "text": [
            "(434, 30) (347, 30) (87, 30)\n"
          ]
        }
      ]
    },
    {
      "cell_type": "code",
      "source": [
        "#Model training \n",
        "#Logistic Regression\n",
        "model = LogisticRegression()\n",
        "#training the Data \n",
        "model.fit(X_train,Y_train)"
      ],
      "metadata": {
        "colab": {
          "base_uri": "https://localhost:8080/"
        },
        "id": "mG7k-71RB13z",
        "outputId": "0d917660-a80e-47ab-9545-3d90ad75c7fe"
      },
      "execution_count": 30,
      "outputs": [
        {
          "output_type": "execute_result",
          "data": {
            "text/plain": [
              "LogisticRegression()"
            ]
          },
          "metadata": {},
          "execution_count": 30
        }
      ]
    },
    {
      "cell_type": "code",
      "source": [
        "#Accuracy Score\n",
        "#accuaracy on training data\n",
        "X_train_prediction=model.predict(X_train)\n",
        "training_data_accuracy= accuracy_score(X_train_prediction, Y_train)\n"
      ],
      "metadata": {
        "id": "cYHLwYgsB16r"
      },
      "execution_count": 35,
      "outputs": []
    },
    {
      "cell_type": "code",
      "source": [
        "print ('Accuracy on training data : ', training_data_accuracy)"
      ],
      "metadata": {
        "colab": {
          "base_uri": "https://localhost:8080/"
        },
        "id": "ebBNuZZ-B1-D",
        "outputId": "15bef2bc-c243-4017-81af-446ae99efd57"
      },
      "execution_count": 37,
      "outputs": [
        {
          "output_type": "stream",
          "name": "stdout",
          "text": [
            "Accuracy on training data :  0.9711815561959655\n"
          ]
        }
      ]
    },
    {
      "cell_type": "code",
      "source": [
        "#accuracy on test data\n",
        "X_test_prediction = model.predict(X_test)\n",
        "test_data_accuracy= accuracy_score(X_test_prediction,Y_test)"
      ],
      "metadata": {
        "id": "zVjyanocJrH9"
      },
      "execution_count": 38,
      "outputs": []
    },
    {
      "cell_type": "code",
      "source": [
        "print ('Accuracy on Test data : ', test_data_accuracy)"
      ],
      "metadata": {
        "colab": {
          "base_uri": "https://localhost:8080/"
        },
        "id": "aEZy4sWxJrQR",
        "outputId": "d27710c6-1b82-4566-8d35-2ef54f790751"
      },
      "execution_count": 40,
      "outputs": [
        {
          "output_type": "stream",
          "name": "stdout",
          "text": [
            "Accuracy on Test data :  0.9080459770114943\n"
          ]
        }
      ]
    },
    {
      "cell_type": "code",
      "source": [
        ""
      ],
      "metadata": {
        "id": "7fI2majpJrV6"
      },
      "execution_count": null,
      "outputs": []
    },
    {
      "cell_type": "code",
      "source": [
        ""
      ],
      "metadata": {
        "id": "gfYMCbgPJra3"
      },
      "execution_count": null,
      "outputs": []
    },
    {
      "cell_type": "code",
      "source": [
        ""
      ],
      "metadata": {
        "id": "FdGcdcxgJrgD"
      },
      "execution_count": null,
      "outputs": []
    }
  ]
}